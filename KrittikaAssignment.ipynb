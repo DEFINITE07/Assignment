{
 "cells": [
  {
   "cell_type": "markdown",
   "id": "5fe6cc81",
   "metadata": {},
   "source": [
    "## Parsing the HTML Content\n",
    "To take the HTML content of Site \"https://krittikaiitb.github.io/team/\", I used the beautifulSoup feature which is provided in python library.\n",
    "\n",
    "request library is a popular Python library used for making HTTP requests."
   ]
  },
  {
   "cell_type": "code",
   "execution_count": 64,
   "id": "f8d48038",
   "metadata": {},
   "outputs": [],
   "source": [
    "import requests\n",
    "from bs4 import BeautifulSoup\n",
    "import csv\n",
    "\n",
    "# URL of the website\n",
    "url = \"https://krittikaiitb.github.io/team/\"\n",
    "\n",
    "# Send a GET request to the website\n",
    "response = requests.get(url)"
   ]
  },
  {
   "cell_type": "markdown",
   "id": "119f73e0",
   "metadata": {},
   "source": [
    "##  Extracting Data And Importing it in CSV file\n",
    "Firstly, I found the div (which is a generic container element used to group and organize other elements) which has the necessay information I want, then made a csv file named \"A\". In which I made three columns \"Year\", \"Name\", \"Designation\", Then appended the information provided by the site one by one from 2019 to 2022 in the respective columns."
   ]
  },
  {
   "cell_type": "code",
   "execution_count": 65,
   "id": "6e3d01fd",
   "metadata": {
    "scrolled": false
   },
   "outputs": [
    {
     "name": "stdout",
     "output_type": "stream",
     "text": [
      "Year,Name,Designation\n",
      "2019,Vedant Shenoy,Manager\n",
      "2019,Kunal Deshmukh,Secretary\n",
      "2019,Arsh,Convener\n",
      "2019,Fathima,Convener\n",
      "2019,Kritti,Convener\n",
      "2019,Pranav,Convener\n",
      "2019,Shravan,Convener\n",
      "2019,Siddhant,Convener\n",
      "2020,Kritti,Manager\n",
      "2020,Siddhant Tripathy,Secretary\n",
      "2020,Ananya,Convener\n",
      "2020,Aneesh,Convener\n",
      "2020,Devansh,Convener\n",
      "2020,Harshda,Convener\n",
      "2020,Manan,Convener\n",
      "2020,Omkar,Convener\n",
      "2020,Soham,Convener\n",
      "2020,Sreeman,Convener\n",
      "2020,Unnatee,Convener\n",
      "2020,Vaishnav,Convener\n",
      "2021,Manan Seth,Secretary\n",
      "2021,Adish,Convener\n",
      "2021,Utkarsha,Convener\n",
      "2021,Advait,Convener\n",
      "2021,Aditya Kudre,Convener\n",
      "2021,Aditya Maheshwari,Convener\n",
      "2021,Raksha,Convener\n",
      "2021,Mohit,Convener\n",
      "2021,Kishan,Convener\n",
      "2021,Shreya,Convener\n",
      "2022,Advait Mehla,Manager\n",
      "2022,Raksha Maheshwari,Secretary\n",
      "2022,Tamojeet,Convener\n",
      "2022,Shlesh,Convener\n",
      "2022,Dhananjay,Convener\n",
      "2022,Apoorva,Convener\n",
      "2022,Anushika,Convener\n",
      "2022,Mayank,Convener\n",
      "2022,Pal,Enthusiast\n",
      "2022,Ashwin,Enthusiast\n",
      "2022,Garv,Enthusiast\n",
      "2022,Harshavardhan,Enthusiast\n",
      "2022,Navdha,Enthusiast\n",
      "2022,Ravi,Enthusiast\n",
      "2022,Shravya,Enthusiast\n",
      "2022,Arhaan,Enthusiast\n",
      "\n"
     ]
    }
   ],
   "source": [
    "# Parse the HTML content using BeautifulSoup\n",
    "soup = BeautifulSoup(response.content, \"html.parser\")\n",
    "\n",
    "# Open a CSV file for writing\n",
    "with open(\"A.csv\", \"w\", newline=\"\") as file:\n",
    "    writer = csv.writer(file)\n",
    "    writer.writerow([\"Year\", \"Name\", \"Designation\"])  # Write header row\n",
    "\n",
    "    for i in range(2019, 2023):\n",
    "        # Find the team section for the year\n",
    "        team_section = soup.find(\"div\", {\"id\": \"myTab-tabpane-{}\".format(i)})\n",
    "\n",
    "        # Extract team members' information\n",
    "        team_members = team_section.find_all(\"div\", class_=\"card-body\")\n",
    "        for member in team_members:\n",
    "            name = member.find(\"h5\", class_=\"card-title mb-0\").text.strip()\n",
    "            designation = member.find(\"p\", class_=\"card-text\").text.strip()\n",
    "            writer.writerow([i, name, designation])\n",
    "\n",
    "# Print the CSV file contents\n",
    "with open(\"A.csv\", \"r\") as file:\n",
    "    csv_data = file.read()\n",
    "\n",
    "print(csv_data)"
   ]
  }
 ],
 "metadata": {
  "kernelspec": {
   "display_name": "Python 3 (ipykernel)",
   "language": "python",
   "name": "python3"
  },
  "language_info": {
   "codemirror_mode": {
    "name": "ipython",
    "version": 3
   },
   "file_extension": ".py",
   "mimetype": "text/x-python",
   "name": "python",
   "nbconvert_exporter": "python",
   "pygments_lexer": "ipython3",
   "version": "3.10.9"
  }
 },
 "nbformat": 4,
 "nbformat_minor": 5
}
